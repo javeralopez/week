{
  "cells": [
    {
      "cell_type": "markdown",
      "id": "70c90b18-757b-4a44-8e8d-3e0882bd5474",
      "metadata": {
        "id": "70c90b18-757b-4a44-8e8d-3e0882bd5474"
      },
      "source": [
        "## Week 2"
      ]
    },
    {
      "cell_type": "markdown",
      "id": "31770a4b-1626-4cdc-9a2f-5b249540fd46",
      "metadata": {
        "id": "31770a4b-1626-4cdc-9a2f-5b249540fd46"
      },
      "source": [
        "*Welcome back! First run all cells in Week 2 and 3 before scrolling down to week 4.*\n",
        "\n",
        "We first download the required software: LangChain and its dependency `pypdf`"
      ]
    },
    {
      "cell_type": "code",
      "source": [
        "!wget https://github.com/srhm-ca/generative-ai-for-journalists/raw/main/Data.zip\n",
        "!unzip Data.zip"
      ],
      "metadata": {
        "id": "zm3GZaonQvTA"
      },
      "id": "zm3GZaonQvTA",
      "execution_count": null,
      "outputs": []
    },
    {
      "cell_type": "code",
      "source": [
        "!apt install python3.10-venv"
      ],
      "metadata": {
        "id": "kGaAe1WSjv86"
      },
      "id": "kGaAe1WSjv86",
      "execution_count": null,
      "outputs": []
    },
    {
      "cell_type": "code",
      "source": [
        "!source tutorial-env/bin/activate"
      ],
      "metadata": {
        "id": "FgvygD_kkl-Z"
      },
      "id": "FgvygD_kkl-Z",
      "execution_count": null,
      "outputs": []
    },
    {
      "cell_type": "code",
      "execution_count": null,
      "id": "d09f5e02-9571-47c2-b607-831fde5093b5",
      "metadata": {
        "scrolled": true,
        "id": "d09f5e02-9571-47c2-b607-831fde5093b5"
      },
      "outputs": [],
      "source": [
        "!pip install --upgrade pip\n",
        "!pip install --upgrade langchain pypdf"
      ]
    },
    {
      "cell_type": "markdown",
      "id": "b0323110-6e61-40cb-a8b0-ea48fbf31065",
      "metadata": {
        "id": "b0323110-6e61-40cb-a8b0-ea48fbf31065"
      },
      "source": [
        "We then load LangChain's `pypdf` loader."
      ]
    },
    {
      "cell_type": "code",
      "execution_count": null,
      "id": "62c41117-03a0-47a1-8ceb-2be15e7adf92",
      "metadata": {
        "id": "62c41117-03a0-47a1-8ceb-2be15e7adf92"
      },
      "outputs": [],
      "source": [
        "from langchain.document_loaders import PyPDFLoader, PyPDFDirectoryLoader"
      ]
    },
    {
      "cell_type": "markdown",
      "id": "ad550f88-1588-4aac-b051-12ded711781a",
      "metadata": {
        "id": "ad550f88-1588-4aac-b051-12ded711781a"
      },
      "source": [
        "Let's first load our PDF..."
      ]
    },
    {
      "cell_type": "code",
      "execution_count": null,
      "id": "4d044718-e7d2-4fc6-9044-073329c52bfc",
      "metadata": {
        "id": "4d044718-e7d2-4fc6-9044-073329c52bfc"
      },
      "outputs": [],
      "source": [
        "loader = PyPDFLoader(\"Data/2021-census-population-occupied-private-dwellings-community-2001-2021.pdf\")"
      ]
    },
    {
      "cell_type": "code",
      "execution_count": null,
      "id": "ae45dec0-794d-4816-914b-f9f590c4e75c",
      "metadata": {
        "id": "ae45dec0-794d-4816-914b-f9f590c4e75c"
      },
      "outputs": [],
      "source": [
        "single_pdf = loader.load_and_split()"
      ]
    },
    {
      "cell_type": "code",
      "execution_count": null,
      "id": "a141eefe-ecee-4281-94e7-0265ff37fb6b",
      "metadata": {
        "id": "a141eefe-ecee-4281-94e7-0265ff37fb6b"
      },
      "outputs": [],
      "source": [
        "loader = PyPDFDirectoryLoader(\"Data/Supreme Court opinions 2014/\")"
      ]
    },
    {
      "cell_type": "code",
      "execution_count": null,
      "id": "5cb3fadb-5723-4a26-bca3-9aa993636e19",
      "metadata": {
        "id": "5cb3fadb-5723-4a26-bca3-9aa993636e19"
      },
      "outputs": [],
      "source": [
        "many_pdfs = loader.load_and_split()"
      ]
    },
    {
      "cell_type": "markdown",
      "source": [
        "To have the language model answer specific questions for each document in the Supreme Court folder, try out the code blocks below!"
      ],
      "metadata": {
        "id": "cJW3yxDgvWfY"
      },
      "id": "cJW3yxDgvWfY"
    },
    {
      "cell_type": "markdown",
      "id": "20efbfc9-f265-4409-b6cd-e136859c7ab4",
      "metadata": {
        "id": "20efbfc9-f265-4409-b6cd-e136859c7ab4"
      },
      "source": [
        "Having loaded both the single PDF and a directory of PDFs, let's now load the CSV."
      ]
    },
    {
      "source": [
        "def llm(text):\n",
        "  \"\"\"\n",
        "  This function takes a string as input and returns a string.\n",
        "\n",
        "  Args:\n",
        "    text: The input string.\n",
        "\n",
        "  Returns:\n",
        "    The output string.\n",
        "  \"\"\"\n",
        "\n",
        "  return \"This is the output string.\""
      ],
      "cell_type": "code",
      "metadata": {
        "id": "ce0HeILMmHIw"
      },
      "id": "ce0HeILMmHIw",
      "execution_count": null,
      "outputs": []
    },
    {
      "cell_type": "code",
      "source": [
        "for document in many_pdfs:\n",
        "    llm(f\"{document.page_content}\\n\\nDescribe the topic of this text in a single word.\")"
      ],
      "metadata": {
        "id": "V_caVV8qvbY6"
      },
      "id": "V_caVV8qvbY6",
      "execution_count": null,
      "outputs": []
    },
    {
      "cell_type": "code",
      "execution_count": null,
      "id": "d99fd1e7-73ce-4311-adf0-b945605891df",
      "metadata": {
        "id": "d99fd1e7-73ce-4311-adf0-b945605891df"
      },
      "outputs": [],
      "source": [
        "from langchain.document_loaders.csv_loader import CSVLoader"
      ]
    },
    {
      "cell_type": "code",
      "execution_count": null,
      "id": "531ca2c7-4467-4415-93af-8aa2a2313b70",
      "metadata": {
        "id": "531ca2c7-4467-4415-93af-8aa2a2313b70"
      },
      "outputs": [],
      "source": [
        "loader = CSVLoader(\"Data/Urban_Design_and_Architecture_Awards_Recipients.csv\")"
      ]
    },
    {
      "cell_type": "code",
      "execution_count": null,
      "id": "2dfd82d1-8fd2-4c8f-94d2-7a7e00e9d718",
      "metadata": {
        "id": "2dfd82d1-8fd2-4c8f-94d2-7a7e00e9d718"
      },
      "outputs": [],
      "source": [
        "csv = loader.load()"
      ]
    },
    {
      "cell_type": "markdown",
      "id": "1c25ac49-bac4-4f32-8cf8-0f25af553ec9",
      "metadata": {
        "id": "1c25ac49-bac4-4f32-8cf8-0f25af553ec9"
      },
      "source": [
        "Having loaded our data, we'll now download and load the embedding model."
      ]
    },
    {
      "cell_type": "code",
      "execution_count": null,
      "id": "a1d9169c-968a-4eca-bff3-8329137eb506",
      "metadata": {
        "id": "a1d9169c-968a-4eca-bff3-8329137eb506"
      },
      "outputs": [],
      "source": [
        "!pip install sentence_transformers > /dev/null"
      ]
    },
    {
      "cell_type": "code",
      "execution_count": null,
      "id": "1cd23039-6d3a-4628-bff9-044925dbed4a",
      "metadata": {
        "id": "1cd23039-6d3a-4628-bff9-044925dbed4a"
      },
      "outputs": [],
      "source": [
        "from langchain.embeddings import HuggingFaceEmbeddings, SentenceTransformerEmbeddings"
      ]
    },
    {
      "cell_type": "code",
      "execution_count": null,
      "id": "83c921dd-c52a-4e37-8782-f80d572555f4",
      "metadata": {
        "id": "83c921dd-c52a-4e37-8782-f80d572555f4"
      },
      "outputs": [],
      "source": [
        "embeddings = HuggingFaceEmbeddings(model_name=\"all-MiniLM-L6-v2\")"
      ]
    },
    {
      "cell_type": "markdown",
      "id": "50aff0a2-dcb2-4592-baf5-147393fb2a9a",
      "metadata": {
        "id": "50aff0a2-dcb2-4592-baf5-147393fb2a9a"
      },
      "source": [
        "Let's try embedding some text. Observe the output. Once you've tried it, scroll down to continue."
      ]
    },
    {
      "cell_type": "code",
      "execution_count": null,
      "id": "05996763-7f6b-4dff-83c9-793fad185b4a",
      "metadata": {
        "id": "05996763-7f6b-4dff-83c9-793fad185b4a"
      },
      "outputs": [],
      "source": [
        "text = \"This is a test document.\""
      ]
    },
    {
      "cell_type": "code",
      "execution_count": null,
      "id": "f493f3d6-6ffb-4ec6-8cb9-22a632bcacbd",
      "metadata": {
        "scrolled": true,
        "id": "f493f3d6-6ffb-4ec6-8cb9-22a632bcacbd"
      },
      "outputs": [],
      "source": [
        "embeddings.embed_query(text)"
      ]
    },
    {
      "cell_type": "markdown",
      "id": "9443cb7f-eb4e-4a3d-b0fd-cfe7a16b0770",
      "metadata": {
        "id": "9443cb7f-eb4e-4a3d-b0fd-cfe7a16b0770"
      },
      "source": [
        "We now have a working embedding function. Let's install Chroma."
      ]
    },
    {
      "cell_type": "code",
      "execution_count": null,
      "id": "8868b528-ad09-4e1d-85cf-46cfa534153c",
      "metadata": {
        "scrolled": true,
        "id": "8868b528-ad09-4e1d-85cf-46cfa534153c"
      },
      "outputs": [],
      "source": [
        "!pip install -U chromadb"
      ]
    },
    {
      "cell_type": "code",
      "execution_count": null,
      "id": "2df201d3-b2fe-48ce-b302-32c92f800a43",
      "metadata": {
        "id": "2df201d3-b2fe-48ce-b302-32c92f800a43"
      },
      "outputs": [],
      "source": [
        "from langchain.vectorstores import Chroma"
      ]
    },
    {
      "cell_type": "markdown",
      "id": "2b3cf19f-09f6-41bb-8d3f-b92c97b15d9a",
      "metadata": {
        "id": "2b3cf19f-09f6-41bb-8d3f-b92c97b15d9a"
      },
      "source": [
        "Let's make a vector store for our loaded documents!"
      ]
    },
    {
      "cell_type": "code",
      "execution_count": null,
      "id": "141f2642-6076-4f97-bd78-9e744e327764",
      "metadata": {
        "id": "141f2642-6076-4f97-bd78-9e744e327764"
      },
      "outputs": [],
      "source": [
        "db = Chroma.from_documents(single_pdf, embeddings)"
      ]
    },
    {
      "cell_type": "code",
      "execution_count": null,
      "id": "150e3aee-0239-49b7-81c2-968eefb3eb14",
      "metadata": {
        "scrolled": true,
        "id": "150e3aee-0239-49b7-81c2-968eefb3eb14"
      },
      "outputs": [],
      "source": [
        "db.add_documents(csv)"
      ]
    },
    {
      "cell_type": "code",
      "execution_count": null,
      "id": "d52a6e99-bb16-4ca9-a079-a26bc22e3936",
      "metadata": {
        "scrolled": true,
        "id": "d52a6e99-bb16-4ca9-a079-a26bc22e3936"
      },
      "outputs": [],
      "source": [
        "db.add_documents(many_pdfs)"
      ]
    },
    {
      "cell_type": "markdown",
      "id": "cb091cd4-5029-4e2b-91e9-894380770efc",
      "metadata": {
        "id": "cb091cd4-5029-4e2b-91e9-894380770efc"
      },
      "source": [
        "Let's try retrieving a relevant document."
      ]
    },
    {
      "cell_type": "code",
      "execution_count": null,
      "id": "5d7036fb-71f5-4b11-92c0-2212fe6521aa",
      "metadata": {
        "id": "5d7036fb-71f5-4b11-92c0-2212fe6521aa"
      },
      "outputs": [],
      "source": [
        "query = \"An award concerning art.\"\n",
        "db.similarity_search(query)"
      ]
    },
    {
      "cell_type": "code",
      "execution_count": null,
      "id": "3072a2e9-15ab-4e96-b3bd-74b911f1d575",
      "metadata": {
        "id": "3072a2e9-15ab-4e96-b3bd-74b911f1d575"
      },
      "outputs": [],
      "source": [
        "query = \"What exceptions does Rule 606(b)(1) contain?\"\n",
        "db.similarity_search(query)"
      ]
    },
    {
      "cell_type": "markdown",
      "id": "11865b5e-95c0-4fdb-919b-22ebd0e34fba",
      "metadata": {
        "id": "11865b5e-95c0-4fdb-919b-22ebd0e34fba"
      },
      "source": [
        "# Week 3"
      ]
    },
    {
      "cell_type": "markdown",
      "id": "764e2aa4-af11-4475-8c70-8c05a311bbf8",
      "metadata": {
        "id": "764e2aa4-af11-4475-8c70-8c05a311bbf8"
      },
      "source": [
        "We'll now try making an agent. We'll start by downloading a library to let us run a local language model."
      ]
    },
    {
      "cell_type": "code",
      "execution_count": null,
      "id": "8492a75d-0890-48ea-9492-9560ea1db8f9",
      "metadata": {
        "id": "8492a75d-0890-48ea-9492-9560ea1db8f9"
      },
      "outputs": [],
      "source": [
        "!CMAKE_ARGS=\"-DLLAMA_CUBLAS=on\" pip install llama-cpp-python --upgrade --force-reinstall --no-cache-dir"
      ]
    },
    {
      "cell_type": "markdown",
      "id": "120332ae-5e95-4611-93af-825d50933582",
      "metadata": {
        "id": "120332ae-5e95-4611-93af-825d50933582"
      },
      "source": [
        "Let's load the software."
      ]
    },
    {
      "cell_type": "markdown",
      "source": [],
      "metadata": {
        "id": "C7RkdSf6s_WE"
      },
      "id": "C7RkdSf6s_WE"
    },
    {
      "cell_type": "code",
      "execution_count": null,
      "id": "4feebc01-c39a-4c20-9888-e8bbaae0b76b",
      "metadata": {
        "id": "4feebc01-c39a-4c20-9888-e8bbaae0b76b"
      },
      "outputs": [],
      "source": [
        "from langchain.llms import LlamaCpp\n",
        "from langchain.callbacks.manager import CallbackManager\n",
        "from langchain.callbacks.streaming_stdout import StreamingStdOutCallbackHandler\n",
        "\n",
        "callback_manager = CallbackManager([StreamingStdOutCallbackHandler()])"
      ]
    },
    {
      "cell_type": "markdown",
      "id": "99a1dc55-530b-4367-9a90-6695613be9bc",
      "metadata": {
        "id": "99a1dc55-530b-4367-9a90-6695613be9bc"
      },
      "source": [
        "With that loaded, let's download a language model."
      ]
    },
    {
      "cell_type": "code",
      "execution_count": null,
      "id": "e43df9cc-7a32-4587-8ad7-947e27a94297",
      "metadata": {
        "scrolled": true,
        "id": "e43df9cc-7a32-4587-8ad7-947e27a94297"
      },
      "outputs": [],
      "source": [
        "!wget https://huggingface.co/TheBloke/Mistral-7B-Instruct-v0.1-GGUF/resolve/main/mistral-7b-instruct-v0.1.Q4_0.gguf"
      ]
    },
    {
      "cell_type": "markdown",
      "id": "370476a0-9145-4df4-99c0-563a26dd9a1d",
      "metadata": {
        "id": "370476a0-9145-4df4-99c0-563a26dd9a1d"
      },
      "source": [
        "Okay! Let's try loading it."
      ]
    },
    {
      "source": [
        "!pip install llama-cpp-python"
      ],
      "cell_type": "code",
      "metadata": {
        "id": "HB3_tbMBuJe4"
      },
      "id": "HB3_tbMBuJe4",
      "execution_count": null,
      "outputs": []
    },
    {
      "cell_type": "code",
      "execution_count": null,
      "id": "b0b864e1-0cea-4bdc-bcee-9b061ec3b994",
      "metadata": {
        "scrolled": true,
        "id": "b0b864e1-0cea-4bdc-bcee-9b061ec3b994"
      },
      "outputs": [],
      "source": [
        "llm = LlamaCpp(\n",
        "    model_path=\"mistral-7b-instruct-v0.1.Q4_0.gguf\",\n",
        "    temperature=0.8,\n",
        "    max_tokens=200,\n",
        "    n_ctx=4096,\n",
        "    top_p=1,\n",
        "    n_gpu_layers=-1,\n",
        "    f16_kv=True,\n",
        "    verbose=True,\n",
        "    callback_manager=callback_manager\n",
        ")"
      ]
    },
    {
      "cell_type": "markdown",
      "id": "27c7a7b2-e47d-402f-a06d-c1f6e3f38260",
      "metadata": {
        "id": "27c7a7b2-e47d-402f-a06d-c1f6e3f38260"
      },
      "source": [
        "Let's try it out!"
      ]
    },
    {
      "cell_type": "code",
      "execution_count": null,
      "id": "a71a2481-65e8-494e-bc87-fb1379327513",
      "metadata": {
        "id": "a71a2481-65e8-494e-bc87-fb1379327513"
      },
      "outputs": [],
      "source": [
        "llm(\"Where is Tokyo?\")"
      ]
    },
    {
      "cell_type": "markdown",
      "id": "6d2f78db-2494-4a28-af39-163b9c9e57d5",
      "metadata": {
        "id": "6d2f78db-2494-4a28-af39-163b9c9e57d5"
      },
      "source": [
        "Having verified the language model works, let's try making a tool for it to access our vector store."
      ]
    },
    {
      "cell_type": "code",
      "execution_count": null,
      "id": "5e507cd4-adc1-4908-a970-fd984877d687",
      "metadata": {
        "id": "5e507cd4-adc1-4908-a970-fd984877d687"
      },
      "outputs": [],
      "source": [
        "from langchain.chains import RetrievalQA"
      ]
    },
    {
      "cell_type": "markdown",
      "id": "16b8976b-53be-4a08-a272-72cadda58d24",
      "metadata": {
        "id": "16b8976b-53be-4a08-a272-72cadda58d24"
      },
      "source": [
        "Let's define our agent."
      ]
    },
    {
      "cell_type": "code",
      "execution_count": null,
      "id": "ebb2eb59-28d1-4730-970d-36acc51ef79f",
      "metadata": {
        "id": "ebb2eb59-28d1-4730-970d-36acc51ef79f"
      },
      "outputs": [],
      "source": [
        "from langchain.agents import initialize_agent, Tool\n",
        "from langchain.agents import AgentType\n",
        "from langchain.tools import BaseTool\n",
        "from langchain.chains import LLMMathChain\n",
        "from langchain.utilities import SerpAPIWrapper\n",
        "from langchain.agents.agent_toolkits import create_retriever_tool"
      ]
    },
    {
      "cell_type": "code",
      "execution_count": null,
      "id": "b5a17562-23e8-4318-856e-3a45a8861c33",
      "metadata": {
        "id": "b5a17562-23e8-4318-856e-3a45a8861c33"
      },
      "outputs": [],
      "source": [
        "retriever = db.as_retriever()"
      ]
    },
    {
      "cell_type": "code",
      "execution_count": null,
      "id": "0ebc18c7-3dbe-486f-8074-abd11fb93961",
      "metadata": {
        "id": "0ebc18c7-3dbe-486f-8074-abd11fb93961"
      },
      "outputs": [],
      "source": [
        "tools = [\n",
        "    create_retriever_tool(\n",
        "        retriever,\n",
        "        name=\"Search knowledge\",\n",
        "        description=\"Useful for when you need to answer a question. If the user asks a question concerning the Supreme Court or Hamilton, Ontario, find the answer to their question with this tool. Only use this tool once.\",\n",
        "    ),\n",
        "]"
      ]
    },
    {
      "cell_type": "code",
      "execution_count": null,
      "id": "e78b186b-530d-469b-b011-0c7175476b96",
      "metadata": {
        "id": "e78b186b-530d-469b-b011-0c7175476b96"
      },
      "outputs": [],
      "source": [
        "agent = initialize_agent(\n",
        "    tools, llm, agent=AgentType.ZERO_SHOT_REACT_DESCRIPTION, verbose=True\n",
        ")"
      ]
    },
    {
      "cell_type": "markdown",
      "id": "5d901bc6-16ce-461a-8a61-861f2dacf8b9",
      "metadata": {
        "id": "5d901bc6-16ce-461a-8a61-861f2dacf8b9"
      },
      "source": [
        "And let's try it out."
      ]
    },
    {
      "cell_type": "code",
      "execution_count": null,
      "id": "3fde6c9f-aa73-474d-8a49-d3bac47c63a0",
      "metadata": {
        "id": "3fde6c9f-aa73-474d-8a49-d3bac47c63a0"
      },
      "outputs": [],
      "source": [
        "agent.run(\"Who, in Hamilton, won an award for art?\")"
      ]
    },
    {
      "cell_type": "markdown",
      "id": "de191d1d-1811-4b00-8d33-3ba08adfeb9b",
      "metadata": {
        "id": "de191d1d-1811-4b00-8d33-3ba08adfeb9b"
      },
      "source": [
        "# Week 4"
      ]
    },
    {
      "cell_type": "markdown",
      "id": "c37168cf-dbb9-467b-87cc-8cd765797200",
      "metadata": {
        "id": "c37168cf-dbb9-467b-87cc-8cd765797200"
      },
      "source": [
        "Welcome back! We'll now try making an interface for our agent. First, let's download Gradio."
      ]
    },
    {
      "cell_type": "code",
      "execution_count": null,
      "id": "d1db28ec-20db-4c8a-89a1-24eae7f93e3c",
      "metadata": {
        "scrolled": true,
        "id": "d1db28ec-20db-4c8a-89a1-24eae7f93e3c"
      },
      "outputs": [],
      "source": [
        "!pip install gradio==3.48.0"
      ]
    },
    {
      "cell_type": "markdown",
      "id": "2706405d-a812-43b0-9a84-cb94e5e14754",
      "metadata": {
        "id": "2706405d-a812-43b0-9a84-cb94e5e14754"
      },
      "source": [
        "Next, let's define a `message` function. This will let our Gradio interface talk to our agent."
      ]
    },
    {
      "cell_type": "code",
      "execution_count": null,
      "id": "14778a4d-f62b-4dda-be2a-ec74607ed5e7",
      "metadata": {
        "id": "14778a4d-f62b-4dda-be2a-ec74607ed5e7"
      },
      "outputs": [],
      "source": [
        "import gradio as gr\n",
        "\n",
        "history = []\n",
        "\n",
        "def predict(message, history):\n",
        "    response = agent.run(\"<s>[INST] \" + message + \" [/INST]\")\n",
        "    return response"
      ]
    },
    {
      "cell_type": "markdown",
      "id": "26f411dc-8a75-403a-9307-c3b019499d8e",
      "metadata": {
        "id": "26f411dc-8a75-403a-9307-c3b019499d8e"
      },
      "source": [
        "With that done, let's try loading an interface in just a few lines of code."
      ]
    },
    {
      "cell_type": "code",
      "execution_count": null,
      "id": "1c7301ac-bb4f-475c-999a-e56c267a14bb",
      "metadata": {
        "id": "1c7301ac-bb4f-475c-999a-e56c267a14bb"
      },
      "outputs": [],
      "source": [
        "gr.ChatInterface(predict, theme=\"soft\", title=\"My Fancy Chatbot\").launch(share=True)"
      ]
    },
    {
      "cell_type": "markdown",
      "id": "ae56615d-c6b1-49b5-b657-131611382b6c",
      "metadata": {
        "id": "ae56615d-c6b1-49b5-b657-131611382b6c"
      },
      "source": [
        "Super! It works. We now can talk to an agent hooked up to some data through a fancy website."
      ]
    }
  ],
  "metadata": {
    "kernelspec": {
      "display_name": "Python 3",
      "name": "python3"
    },
    "language_info": {
      "codemirror_mode": {
        "name": "ipython",
        "version": 3
      },
      "file_extension": ".py",
      "mimetype": "text/x-python",
      "name": "python",
      "nbconvert_exporter": "python",
      "pygments_lexer": "ipython3",
      "version": "3.8.18"
    },
    "colab": {
      "private_outputs": true,
      "provenance": [],
      "gpuType": "T4"
    }
  },
  "nbformat": 4,
  "nbformat_minor": 5
}